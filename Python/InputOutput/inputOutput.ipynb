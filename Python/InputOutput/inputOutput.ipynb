{
 "cells": [
  {
   "cell_type": "code",
   "execution_count": 1,
   "metadata": {
    "collapsed": false
   },
   "outputs": [],
   "source": [
    "%matplotlib inline\n",
    "import os, sys, json\n",
    "import numpy as np\n",
    "import pandas as pd\n",
    "import matplotlib.pyplot as plt\n",
    "from collections import OrderedDict as OD"
   ]
  },
  {
   "cell_type": "markdown",
   "metadata": {},
   "source": [
    "# JSON Input/Output"
   ]
  },
  {
   "cell_type": "code",
   "execution_count": 2,
   "metadata": {
    "collapsed": false
   },
   "outputs": [],
   "source": [
    "# Generate data\n",
    "data = OD([\n",
    "        ('Name','Davide'),\n",
    "        ('Surname','Porzio'),\n",
    "        ('Nationality','Italian'),\n",
    "        ('Age',25)\n",
    "    ])\n",
    "\n",
    "# Output\n",
    "json.dump(data, open('data.json','w'), indent=2)\n",
    "\n",
    "# Input\n",
    "inData = json.loads(open('data.json').read())"
   ]
  },
  {
   "cell_type": "markdown",
   "metadata": {},
   "source": [
    "# Pandas Input/Output"
   ]
  },
  {
   "cell_type": "code",
   "execution_count": 3,
   "metadata": {
    "collapsed": false
   },
   "outputs": [],
   "source": [
    "# Generate data\n",
    "data = OD([\n",
    "        ('x',np.linspace(0,100,20)),\n",
    "        ('y',np.random.rand(20))\n",
    "    ])\n",
    "outData = pd.DataFrame(data)\n",
    "\n",
    "# Output\n",
    "outData.to_csv('data.csv',index=False)\n",
    "\n",
    "# Input\n",
    "inData = pd.read_csv('data.csv')"
   ]
  },
  {
   "cell_type": "code",
   "execution_count": null,
   "metadata": {
    "collapsed": true
   },
   "outputs": [],
   "source": []
  }
 ],
 "metadata": {
  "kernelspec": {
   "display_name": "Python 2",
   "language": "python",
   "name": "python2"
  },
  "language_info": {
   "codemirror_mode": {
    "name": "ipython",
    "version": 2
   },
   "file_extension": ".py",
   "mimetype": "text/x-python",
   "name": "python",
   "nbconvert_exporter": "python",
   "pygments_lexer": "ipython2",
   "version": "2.7.10"
  }
 },
 "nbformat": 4,
 "nbformat_minor": 0
}
