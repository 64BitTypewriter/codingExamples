{
 "cells": [
  {
   "cell_type": "code",
   "execution_count": 9,
   "metadata": {
    "collapsed": false
   },
   "outputs": [],
   "source": [
    "%matplotlib inline\n",
    "import os, sys, json\n",
    "import numpy as np\n",
    "import pandas as pd\n",
    "import matplotlib.pyplot as plt\n",
    "from collections import OrderedDict as OD"
   ]
  },
  {
   "cell_type": "markdown",
   "metadata": {},
   "source": [
    "# JSON Input/Output"
   ]
  },
  {
   "cell_type": "code",
   "execution_count": 8,
   "metadata": {
    "collapsed": false
   },
   "outputs": [],
   "source": [
    "# Generate data\n",
    "data = OD([\n",
    "        ('Name','Davide'),\n",
    "        ('Surname','Porzio'),\n",
    "        ('Nationality','Italian'),\n",
    "        ('Age',25)\n",
    "    ])\n",
    "\n",
    "# Output\n",
    "json.dump(data, open('data.json','w'), indent=2)\n",
    "\n",
    "# Input\n",
    "inData = json.loads(open('data.json').read())"
   ]
  },
  {
   "cell_type": "markdown",
   "metadata": {},
   "source": [
    "# Pandas Input/Output"
   ]
  },
  {
   "cell_type": "code",
   "execution_count": 26,
   "metadata": {
    "collapsed": false
   },
   "outputs": [
    {
     "data": {
      "text/html": [
       "<div>\n",
       "<table border=\"1\" class=\"dataframe\">\n",
       "  <thead>\n",
       "    <tr style=\"text-align: right;\">\n",
       "      <th></th>\n",
       "      <th>x</th>\n",
       "      <th>y</th>\n",
       "    </tr>\n",
       "  </thead>\n",
       "  <tbody>\n",
       "    <tr>\n",
       "      <th>0</th>\n",
       "      <td>0.000000</td>\n",
       "      <td>0.773045</td>\n",
       "    </tr>\n",
       "    <tr>\n",
       "      <th>1</th>\n",
       "      <td>5.263158</td>\n",
       "      <td>0.622529</td>\n",
       "    </tr>\n",
       "    <tr>\n",
       "      <th>2</th>\n",
       "      <td>10.526316</td>\n",
       "      <td>0.628899</td>\n",
       "    </tr>\n",
       "    <tr>\n",
       "      <th>3</th>\n",
       "      <td>15.789474</td>\n",
       "      <td>0.975348</td>\n",
       "    </tr>\n",
       "    <tr>\n",
       "      <th>4</th>\n",
       "      <td>21.052632</td>\n",
       "      <td>0.402710</td>\n",
       "    </tr>\n",
       "    <tr>\n",
       "      <th>5</th>\n",
       "      <td>26.315789</td>\n",
       "      <td>0.917466</td>\n",
       "    </tr>\n",
       "    <tr>\n",
       "      <th>6</th>\n",
       "      <td>31.578947</td>\n",
       "      <td>0.594081</td>\n",
       "    </tr>\n",
       "    <tr>\n",
       "      <th>7</th>\n",
       "      <td>36.842105</td>\n",
       "      <td>0.767318</td>\n",
       "    </tr>\n",
       "    <tr>\n",
       "      <th>8</th>\n",
       "      <td>42.105263</td>\n",
       "      <td>0.837279</td>\n",
       "    </tr>\n",
       "    <tr>\n",
       "      <th>9</th>\n",
       "      <td>47.368421</td>\n",
       "      <td>0.224964</td>\n",
       "    </tr>\n",
       "    <tr>\n",
       "      <th>10</th>\n",
       "      <td>52.631579</td>\n",
       "      <td>0.073567</td>\n",
       "    </tr>\n",
       "    <tr>\n",
       "      <th>11</th>\n",
       "      <td>57.894737</td>\n",
       "      <td>0.398276</td>\n",
       "    </tr>\n",
       "    <tr>\n",
       "      <th>12</th>\n",
       "      <td>63.157895</td>\n",
       "      <td>0.127959</td>\n",
       "    </tr>\n",
       "    <tr>\n",
       "      <th>13</th>\n",
       "      <td>68.421053</td>\n",
       "      <td>0.715337</td>\n",
       "    </tr>\n",
       "    <tr>\n",
       "      <th>14</th>\n",
       "      <td>73.684211</td>\n",
       "      <td>0.545662</td>\n",
       "    </tr>\n",
       "    <tr>\n",
       "      <th>15</th>\n",
       "      <td>78.947368</td>\n",
       "      <td>0.423006</td>\n",
       "    </tr>\n",
       "    <tr>\n",
       "      <th>16</th>\n",
       "      <td>84.210526</td>\n",
       "      <td>0.516261</td>\n",
       "    </tr>\n",
       "    <tr>\n",
       "      <th>17</th>\n",
       "      <td>89.473684</td>\n",
       "      <td>0.646858</td>\n",
       "    </tr>\n",
       "    <tr>\n",
       "      <th>18</th>\n",
       "      <td>94.736842</td>\n",
       "      <td>0.617990</td>\n",
       "    </tr>\n",
       "    <tr>\n",
       "      <th>19</th>\n",
       "      <td>100.000000</td>\n",
       "      <td>0.225412</td>\n",
       "    </tr>\n",
       "  </tbody>\n",
       "</table>\n",
       "</div>"
      ],
      "text/plain": [
       "             x         y\n",
       "0     0.000000  0.773045\n",
       "1     5.263158  0.622529\n",
       "2    10.526316  0.628899\n",
       "3    15.789474  0.975348\n",
       "4    21.052632  0.402710\n",
       "5    26.315789  0.917466\n",
       "6    31.578947  0.594081\n",
       "7    36.842105  0.767318\n",
       "8    42.105263  0.837279\n",
       "9    47.368421  0.224964\n",
       "10   52.631579  0.073567\n",
       "11   57.894737  0.398276\n",
       "12   63.157895  0.127959\n",
       "13   68.421053  0.715337\n",
       "14   73.684211  0.545662\n",
       "15   78.947368  0.423006\n",
       "16   84.210526  0.516261\n",
       "17   89.473684  0.646858\n",
       "18   94.736842  0.617990\n",
       "19  100.000000  0.225412"
      ]
     },
     "execution_count": 26,
     "metadata": {},
     "output_type": "execute_result"
    }
   ],
   "source": [
    "# Generate data\n",
    "data = OD([\n",
    "        ('x',np.linspace(0,100,20)),\n",
    "        ('y',np.random.rand(20))\n",
    "    ])\n",
    "outData = pd.DataFrame(data)\n",
    "\n",
    "# Output\n",
    "outData.to_csv('data.csv',index=False)\n",
    "\n",
    "# Input\n",
    "inData = pd.read_csv('data.csv')"
   ]
  },
  {
   "cell_type": "code",
   "execution_count": null,
   "metadata": {
    "collapsed": true
   },
   "outputs": [],
   "source": []
  }
 ],
 "metadata": {
  "kernelspec": {
   "display_name": "Python 2",
   "language": "python",
   "name": "python2"
  },
  "language_info": {
   "codemirror_mode": {
    "name": "ipython",
    "version": 2
   },
   "file_extension": ".py",
   "mimetype": "text/x-python",
   "name": "python",
   "nbconvert_exporter": "python",
   "pygments_lexer": "ipython2",
   "version": "2.7.10"
  }
 },
 "nbformat": 4,
 "nbformat_minor": 0
}
