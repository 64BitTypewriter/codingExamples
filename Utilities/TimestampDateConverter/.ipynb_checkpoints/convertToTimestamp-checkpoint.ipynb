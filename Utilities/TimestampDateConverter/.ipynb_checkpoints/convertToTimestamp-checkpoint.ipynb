{
 "cells": [
  {
   "cell_type": "code",
   "execution_count": 1,
   "metadata": {
    "collapsed": false
   },
   "outputs": [],
   "source": [
    "import numpy as np\n",
    "from functions import GetDateString as GDS\n",
    "from functions import GetTimeString as GTS\n",
    "from functions import GetChicagoTimestamp as GCT"
   ]
  },
  {
   "cell_type": "code",
   "execution_count": 5,
   "metadata": {
    "collapsed": false
   },
   "outputs": [],
   "source": [
    "dates = np.genfromtxt(\"inDate.dat\",delimiter=\"\\t\",names=True,dtype=None)\n",
    "dtStart = []\n",
    "dtEnd = []\n",
    "for event in dates:\n",
    "    dtStart.append(GCT(event['Year'],event['Month'],event['Day'],event['Hour'],event['Minute'],event['Second']))\n",
    "timestamps = np.array((dtStart)).transpose()\n",
    "np.savetxt(\"outTimestamps.dat\",timestamps,fmt='%i',delimiter=' ',header='Timestamps')"
   ]
  }
 ],
 "metadata": {
  "kernelspec": {
   "display_name": "Python 2",
   "language": "python",
   "name": "python2"
  },
  "language_info": {
   "codemirror_mode": {
    "name": "ipython",
    "version": 2
   },
   "file_extension": ".py",
   "mimetype": "text/x-python",
   "name": "python",
   "nbconvert_exporter": "python",
   "pygments_lexer": "ipython2",
   "version": "2.7.10"
  }
 },
 "nbformat": 4,
 "nbformat_minor": 0
}
